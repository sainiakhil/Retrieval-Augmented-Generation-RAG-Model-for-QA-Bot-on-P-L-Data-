{
  "cells": [
    {
      "cell_type": "markdown",
      "metadata": {
        "id": "view-in-github",
        "colab_type": "text"
      },
      "source": [
        "<a href=\"https://colab.research.google.com/github/sainiakhil/Retrieval-Augmented-Generation-RAG-Model-for-QA-Bot-on-P-L-Data-/blob/main/Part_1_(RAG)_Model_for_QA_Bot_on_P%26L_Data.ipynb\" target=\"_parent\"><img src=\"https://colab.research.google.com/assets/colab-badge.svg\" alt=\"Open In Colab\"/></a>"
      ]
    },
    {
      "cell_type": "code",
      "source": [
        "!pip install transformers\n",
        "!pip install sentence_transformers\n",
        "!pip install accelerate\n",
        "!pip install bitsandbytes\n",
        "!pip install llama-index pypdf\n",
        "!pip install sentence-transformers\n",
        "!pip install llama_index.embeddings.huggingface\n",
        "!pip install llama_index.llms.huggingface"
      ],
      "metadata": {
        "id": "LO3fOhiFFOE0"
      },
      "execution_count": null,
      "outputs": []
    },
    {
      "cell_type": "code",
      "source": [
        "import os\n",
        "from transformers import AutoTokenizer, AutoModelForCausalLM, BitsAndBytesConfig\n",
        "import torch\n",
        "from llama_index.embeddings.huggingface import HuggingFaceEmbedding\n",
        "from llama_index.llms.huggingface import HuggingFaceLLM\n",
        "\n",
        "\n",
        "from llama_index.core import (\n",
        "    VectorStoreIndex,\n",
        "    SimpleDirectoryReader,\n",
        "    Settings\n",
        ")\n",
        "from llama_index.core.response.pprint_utils import pprint_response\n",
        "from llama_index.core.node_parser import SentenceSplitter"
      ],
      "metadata": {
        "id": "92Xvi7Fa3-MX"
      },
      "execution_count": 3,
      "outputs": []
    },
    {
      "cell_type": "code",
      "source": [
        "quantization_config = BitsAndBytesConfig(\n",
        "        load_in_4bit=True,\n",
        "        bnb_4bit_compute_dtype=torch.float16,\n",
        "        bnb_4bit_quant_type=\"nf4\",\n",
        "        bnb_4bit_use_double_quant=True\n",
        "    )\n",
        "\n",
        "tokenizer = AutoTokenizer.from_pretrained(\"NousResearch/Meta-Llama-3.1-8B-Instruct\")\n",
        "model = AutoModelForCausalLM.from_pretrained(\n",
        "        \"NousResearch/Meta-Llama-3.1-8B-Instruct\",\n",
        "        quantization_config=quantization_config,\n",
        "        device_map=\"auto\"\n",
        "    )"
      ],
      "metadata": {
        "id": "81cWoeKxIXc6"
      },
      "execution_count": null,
      "outputs": []
    },
    {
      "cell_type": "code",
      "source": [
        "embed_model = HuggingFaceEmbedding(\n",
        "    model_name=\"BAAI/bge-large-en-v1.5\"\n",
        ")"
      ],
      "metadata": {
        "id": "cETvnoa8LoA5"
      },
      "execution_count": null,
      "outputs": []
    },
    {
      "cell_type": "code",
      "source": [
        "llm = HuggingFaceLLM(\n",
        "    model=model,\n",
        "    tokenizer=tokenizer\n",
        ")"
      ],
      "metadata": {
        "id": "ZliL7Pe7Lu1q"
      },
      "execution_count": 6,
      "outputs": []
    },
    {
      "cell_type": "code",
      "source": [
        "settings = Settings\n",
        "settings.llm = llm\n",
        "settings.embed_model = embed_model\n",
        "settings.node_parser = SentenceSplitter(chunk_size=512, chunk_overlap=20)\n",
        "settings.num_output = 50\n",
        "settings.context_window = 3900\n",
        "settings.genrate_kwargs = {\"do_sample\": False,\"temperature\": 0.1}"
      ],
      "metadata": {
        "id": "vus6Z0dWMug7"
      },
      "execution_count": 12,
      "outputs": []
    },
    {
      "cell_type": "code",
      "source": [
        "documents = SimpleDirectoryReader(\"/content/data\").load_data()\n",
        "\n",
        "vector_index = VectorStoreIndex.from_documents(\n",
        "    documents,\n",
        "    embed_model=Settings.embed_model,\n",
        "    node_parser=settings.node_parser,\n",
        "    show_progress=True\n",
        "    )"
      ],
      "metadata": {
        "colab": {
          "base_uri": "https://localhost:8080/",
          "height": 81,
          "referenced_widgets": [
            "676915a2effd4bfcbbe11e8a531c8f2e",
            "6b142e00310c4a009979db863f03907d",
            "4081384be1724e8389b9d5865a071049",
            "93207fd0979d4d44b904278e652522d8",
            "ddc8045e22b9463c99a9ddc9a71d4c6a",
            "3c0ed5021dac4141ab535b45a98a822f",
            "fda84c2b3688443da54487117b24d417",
            "7bd471a2278d4141aa334f8c1c6fbd98",
            "d71a816ecd224ccebf2d53606991f3c0",
            "3322a1fa7b5e49a999c53d7af7e7aad2",
            "00d4eba0992a421e967a67d457562606",
            "123218df1a6443e3aea6378ec6e6b33f",
            "e7da67d763a547ef9e39041350bb5028",
            "af63f90ef4d446d988203b5f8d147202",
            "c580fa3ecd334b319a3783b7e0ba3a8f",
            "412a2b95cc72459fa8ca263e4f3c009c",
            "a1339ecf510a4bf09efcfe2c66932654",
            "f58ef6dbeb1340fab8f4eb3600a52821",
            "0fe2e01d21994871841d39bf3ac2f5e5",
            "6e6abc6184364212b52954e33b4f36a0",
            "f472f7c7d67a4732969c200b2592032b",
            "a60e79ee7317498d84a0833f21ff74da"
          ]
        },
        "id": "Nd3q5XtZ41Eh",
        "outputId": "df7f2c39-ec51-4312-a259-7bf58cf6f81f"
      },
      "execution_count": 9,
      "outputs": [
        {
          "output_type": "display_data",
          "data": {
            "text/plain": [
              "Parsing nodes:   0%|          | 0/40 [00:00<?, ?it/s]"
            ],
            "application/vnd.jupyter.widget-view+json": {
              "version_major": 2,
              "version_minor": 0,
              "model_id": "676915a2effd4bfcbbe11e8a531c8f2e"
            }
          },
          "metadata": {}
        },
        {
          "output_type": "display_data",
          "data": {
            "text/plain": [
              "Generating embeddings:   0%|          | 0/109 [00:00<?, ?it/s]"
            ],
            "application/vnd.jupyter.widget-view+json": {
              "version_major": 2,
              "version_minor": 0,
              "model_id": "123218df1a6443e3aea6378ec6e6b33f"
            }
          },
          "metadata": {}
        }
      ]
    },
    {
      "cell_type": "code",
      "source": [
        "query_engine = vector_index.as_query_engine(\n",
        "    llm=settings.llm,\n",
        "    similarity_top_k=3,\n",
        "    response_mode=\"compact\",\n",
        "    verbose=True,\n",
        "    generate_kwargs=settings.genrate_kwargs,\n",
        "    context_window=settings.context_window,\n",
        "    num_output=settings.num_output,\n",
        "    show_progress=True\n",
        "   )"
      ],
      "metadata": {
        "id": "gdPK6-7JQdjT"
      },
      "execution_count": 17,
      "outputs": []
    },
    {
      "cell_type": "code",
      "source": [
        "query_str = \"What are the total expenses for Q2 2023?\"\n",
        "response = await query_engine.aquery(query_str)\n",
        "\n",
        "print(\"Original Query:\", query_str)\n",
        "cleaned_response = response.response.split('\\n')[0].strip()\n",
        "print(\"Response:\", cleaned_response)\n",
        "\n",
        "print(\"\\nRetrieved Document Chunks:\")\n",
        "for i, node in enumerate(response.source_nodes, 1):\n",
        "    print(f\"Chunk {i}:\")\n",
        "    print(f\"Relevance Score: {node.score:.4f}\")\n",
        "    print(f\"Text (first 300 chars): {node.text[:300]}...\")\n",
        "    print(\"-\" * 50)"
      ],
      "metadata": {
        "colab": {
          "base_uri": "https://localhost:8080/"
        },
        "id": "o6g-VulmRFz3",
        "outputId": "093c547b-e2f1-492c-d1ef-99da8227830c"
      },
      "execution_count": 18,
      "outputs": [
        {
          "output_type": "stream",
          "name": "stderr",
          "text": [
            "Setting `pad_token_id` to `eos_token_id`:128001 for open-end generation.\n"
          ]
        },
        {
          "output_type": "stream",
          "name": "stdout",
          "text": [
            "Original Query: What are the total expenses for Q2 2023?\n",
            "Response: 29,646\n",
            "\n",
            "Retrieved Document Chunks:\n",
            "Chunk 1:\n",
            "Relevance Score: 0.7110\n",
            "Text (first 300 chars): INFOSYS LIMITED AND SUBSIDIARIES\n",
            "(In ₹ crore, except equity share and per equity share data)\n",
            "Note No.\n",
            "2024 2023 2024 2023 \n",
            "Revenue from operations 2.16                             37,923                             37,441                           153,670                           146,767 \n",
            "Other inc...\n",
            "--------------------------------------------------\n",
            "Chunk 2:\n",
            "Relevance Score: 0.6753\n",
            "Text (first 300 chars): Particulars\n",
            "2024 2023 2024 2023 \n",
            "Employee benefit expenses\n",
            "Salaries including bonus                  19,527                  19,526                       79,315                 75,239 \n",
            "Contribution to provident and other funds                       529                       547                      ...\n",
            "--------------------------------------------------\n",
            "Chunk 3:\n",
            "Relevance Score: 0.6666\n",
            "Text (first 300 chars): (In ₹ crore)\n",
            "Particulars\n",
            "2024 2023 2024 2023 \n",
            "Revenue from software services                   36,064                    35,199               145,285                 137,575 \n",
            "Revenue from products and platforms                     1,859                      2,242                   8,385             ...\n",
            "--------------------------------------------------\n"
          ]
        }
      ]
    },
    {
      "cell_type": "code",
      "source": [
        "query_str = \"What is the gross profit for Q3 2024?\"\n",
        "response = await query_engine.aquery(query_str)\n",
        "\n",
        "print(\"Original Query:\", query_str)\n",
        "cleaned_response = response.response.split('\\n')[0].strip()\n",
        "print(\"Response:\", cleaned_response)\n",
        "\n",
        "print(\"\\nRetrieved Document Chunks:\")\n",
        "for i, node in enumerate(response.source_nodes, 1):\n",
        "    print(f\"Chunk {i}:\")\n",
        "    print(f\"Relevance Score: {node.score:.4f}\")\n",
        "    print(f\"Text (first 300 chars): {node.text[:300]}...\")\n",
        "    print(\"-\" * 50)"
      ],
      "metadata": {
        "colab": {
          "base_uri": "https://localhost:8080/"
        },
        "id": "CbIizd6Y8bcI",
        "outputId": "d60b301c-ae51-4060-d49a-c5853d7103c0"
      },
      "execution_count": 19,
      "outputs": [
        {
          "output_type": "stream",
          "name": "stderr",
          "text": [
            "Setting `pad_token_id` to `eos_token_id`:128001 for open-end generation.\n"
          ]
        },
        {
          "output_type": "stream",
          "name": "stdout",
          "text": [
            "Original Query: What is the gross profit for Q3 2024?\n",
            "Response: 153,670\n",
            "\n",
            "Retrieved Document Chunks:\n",
            "Chunk 1:\n",
            "Relevance Score: 0.6552\n",
            "Text (first 300 chars): The changes in the carrying value of property, plant and equipment for the year ended March 31, 2024 are as follows:\n",
            "(In ₹ crore)\n",
            "Particulars Land - \n",
            "Freehold\n",
            "Buildings \n",
            "(1)\n",
            "Plant and \n",
            "machinery \n",
            "Office \n",
            "Equipment \n",
            "Computer \n",
            "equipment\n",
            "Furniture and \n",
            "fixtures\n",
            "Leasehold \n",
            "Improvements\n",
            "Vehicles Total\n",
            "Gr...\n",
            "--------------------------------------------------\n",
            "Chunk 2:\n",
            "Relevance Score: 0.6492\n",
            "Text (first 300 chars): (In ₹ crore)\n",
            "Particulars\n",
            "2024 2023 2024 2023 \n",
            "Revenue from software services                   36,064                    35,199               145,285                 137,575 \n",
            "Revenue from products and platforms                     1,859                      2,242                   8,385             ...\n",
            "--------------------------------------------------\n",
            "Chunk 3:\n",
            "Relevance Score: 0.6440\n",
            "Text (first 300 chars): 921)        (2,630)         (1,269)        (6,380)             (1,837)              (1,138)                         (42)                   (18,217)\n",
            "Carrying value as at April 1, 2023           1,431           7,027             865             284          2,693                  628                  ...\n",
            "--------------------------------------------------\n"
          ]
        }
      ]
    },
    {
      "cell_type": "code",
      "source": [
        "query_str = \"How do the net income and operating expenses compare for Q1 2024?\"\n",
        "response = await query_engine.aquery(query_str)\n",
        "\n",
        "print(\"Original Query:\", query_str)\n",
        "cleaned_response = response.response.split('\\n')[0].strip()\n",
        "print(\"Response:\", cleaned_response)\n",
        "\n",
        "print(\"\\nRetrieved Document Chunks:\")\n",
        "for i, node in enumerate(response.source_nodes, 1):\n",
        "    print(f\"Chunk {i}:\")\n",
        "    print(f\"Relevance Score: {node.score:.4f}\")\n",
        "    print(f\"Text (first 300 chars): {node.text[:300]}...\")\n",
        "    print(\"-\" * 50)"
      ],
      "metadata": {
        "colab": {
          "base_uri": "https://localhost:8080/"
        },
        "id": "o4RUMCFR8jXW",
        "outputId": "e00f206b-a05d-48d5-d507-34ad63558e1a"
      },
      "execution_count": 20,
      "outputs": [
        {
          "output_type": "stream",
          "name": "stderr",
          "text": [
            "Setting `pad_token_id` to `eos_token_id`:128001 for open-end generation.\n"
          ]
        },
        {
          "output_type": "stream",
          "name": "stdout",
          "text": [
            "Original Query: How do the net income and operating expenses compare for Q1 2024?\n",
            "Response: The net income for Q1 2024 was ₹ 7,975 crore and the operating expenses for Q1 2024 were ₹ 30,412 crore. The operating expenses are higher than the net income. The net income is ₹ 7,975 crore, which is approximately 26.2% of the operating expenses ₹ 30,412 crore. The operating expenses are significantly higher than the net income, indicating that the company has a substantial operating cost base. However, the net income is still a substantial amount, indicating that the company is profitable. The operating expenses are higher than the net income, indicating that the company has a high operating cost base, but the net income is still a significant amount, indicating that the company is profitable. The operating expenses are higher than the net income, indicating that the company has a high operating cost base, but the net income is still a significant amount, indicating that the company is profitable. The operating expenses are higher than the net income, indicating that the company has a high operating cost base, but the net income is still a significant amount, indicating that the company is profitable. The operating expenses are higher than the net income, indicating that the company has a high operating cost base, but the net income is still a\n",
            "\n",
            "Retrieved Document Chunks:\n",
            "Chunk 1:\n",
            "Relevance Score: 0.6775\n",
            "Text (first 300 chars): 2.24  FUNCTION WISE CLASSIFICATION OF CONDENSED CONSOLIDATED STATEMENT OF PROFIT AND LOSS\n",
            "(In ₹ crore)\n",
            "Particulars Note No.\n",
            "2024 2023 2024 2023\n",
            "Revenue from operations 2.16                      37,923                      37,441                  153,670                  146,767 \n",
            "Cost of Sales       ...\n",
            "--------------------------------------------------\n",
            "Chunk 2:\n",
            "Relevance Score: 0.6730\n",
            "Text (first 300 chars): INFOSYS LIMITED AND SUBSIDIARIES\n",
            "(In ₹ crore, except equity share and per equity share data)\n",
            "Note No.\n",
            "2024 2023 2024 2023 \n",
            "Revenue from operations 2.16                             37,923                             37,441                           153,670                           146,767 \n",
            "Other inc...\n",
            "--------------------------------------------------\n",
            "Chunk 3:\n",
            "Relevance Score: 0.6620\n",
            "Text (first 300 chars): (In ₹ crore)\n",
            "Particulars\n",
            "2024 2023 2024 2023 \n",
            "Revenue from software services                   36,064                    35,199               145,285                 137,575 \n",
            "Revenue from products and platforms                     1,859                      2,242                   8,385             ...\n",
            "--------------------------------------------------\n"
          ]
        }
      ]
    },
    {
      "cell_type": "code",
      "source": [
        "query_str = \"Show the operating margin for the past 6 months.\"\n",
        "response = await query_engine.aquery(query_str)\n",
        "\n",
        "print(\"Original Query:\", query_str)\n",
        "cleaned_response = response.response.split('\\n')[0].strip()\n",
        "print(\"Response:\", cleaned_response)\n",
        "\n",
        "print(\"\\nRetrieved Document Chunks:\")\n",
        "for i, node in enumerate(response.source_nodes, 1):\n",
        "    print(f\"Chunk {i}:\")\n",
        "    print(f\"Relevance Score: {node.score:.4f}\")\n",
        "    print(f\"Text (first 300 chars): {node.text[:300]}...\")\n",
        "    print(\"-\" * 50)"
      ],
      "metadata": {
        "colab": {
          "base_uri": "https://localhost:8080/"
        },
        "id": "gBTjs2G39FGH",
        "outputId": "523092a4-7ff8-4519-a13e-d1b4bc338b94"
      },
      "execution_count": 21,
      "outputs": [
        {
          "output_type": "stream",
          "name": "stderr",
          "text": [
            "Setting `pad_token_id` to `eos_token_id`:128001 for open-end generation.\n"
          ]
        },
        {
          "output_type": "stream",
          "name": "stdout",
          "text": [
            "Original Query: Show the operating margin for the past 6 months.\n",
            "Response: 35.13%\n",
            "\n",
            "Retrieved Document Chunks:\n",
            "Chunk 1:\n",
            "Relevance Score: 0.6523\n",
            "Text (first 300 chars): (In ₹ crore)\n",
            "Particulars\n",
            "Financial \n",
            "Services (1)*\n",
            "Retail (2) Communic\n",
            "ation (3)\n",
            "Energy, \n",
            "Utilities, \n",
            "Resources \n",
            "and Services \n",
            "Manufacturing Hi-Tech Life \n",
            "Sciences (4)\n",
            "All other \n",
            "segments (5)\n",
            "Total\n",
            "Revenue from operations         42,158         22,504         17,991          20,035               22,2...\n",
            "--------------------------------------------------\n",
            "Chunk 2:\n",
            "Relevance Score: 0.6451\n",
            "Text (first 300 chars): 2.23\n",
            "Business Segments\n",
            "(In ₹ crore)\n",
            "Particulars\n",
            "Financial \n",
            "Services (1)*\n",
            "Retail (2) Communic\n",
            "ation (3)\n",
            "Energy, \n",
            "Utilities, \n",
            "Resources \n",
            "and Services \n",
            "Manufacturing Hi-Tech Life \n",
            "Sciences (4)\n",
            "All other \n",
            "segments (5)\n",
            "Total\n",
            "Revenue from operations         10,010           5,429           4,666          ...\n",
            "--------------------------------------------------\n",
            "Chunk 3:\n",
            "Relevance Score: 0.6371\n",
            "Text (first 300 chars): 418)\n",
            "Translation difference                —                  3               —                 1                 7                      2                       2                           —                            15 \n",
            "Gross carrying value as at March 31, 2023           1,431         11,562      ...\n",
            "--------------------------------------------------\n"
          ]
        }
      ]
    },
    {
      "cell_type": "code",
      "source": [
        "query_str = \"What is the depreciation and amortization expenses for Q2 2023?\"\n",
        "response = await query_engine.aquery(query_str)\n",
        "\n",
        "print(\"Original Query:\", query_str)\n",
        "cleaned_response = response.response.split('\\n')[0].strip()\n",
        "print(\"Response:\", cleaned_response)\n",
        "\n",
        "print(\"\\nRetrieved Document Chunks:\")\n",
        "for i, node in enumerate(response.source_nodes, 1):\n",
        "    print(f\"Chunk {i}:\")\n",
        "    print(f\"Relevance Score: {node.score:.4f}\")\n",
        "    print(f\"Text (first 300 chars): {node.text[:300]}...\")\n",
        "    print(\"-\" * 50)"
      ],
      "metadata": {
        "colab": {
          "base_uri": "https://localhost:8080/"
        },
        "id": "xfMvaID69-hD",
        "outputId": "6127780b-e282-4265-bb5a-ad87c64e2654"
      },
      "execution_count": 22,
      "outputs": [
        {
          "output_type": "stream",
          "name": "stderr",
          "text": [
            "Setting `pad_token_id` to `eos_token_id`:128001 for open-end generation.\n"
          ]
        },
        {
          "output_type": "stream",
          "name": "stdout",
          "text": [
            "Original Query: What is the depreciation and amortization expenses for Q2 2023?\n",
            "Response: 1,322\n",
            "\n",
            "Retrieved Document Chunks:\n",
            "Chunk 1:\n",
            "Relevance Score: 0.7011\n",
            "Text (first 300 chars): 2022                —         (4,100)        (2,344)         (1,150)        (6,034)             (1,779)                 (856)                         (37)                   (16,300)\n",
            "Depreciation                —            (434)           (273)            (121)        (1,322)                (236)   ...\n",
            "--------------------------------------------------\n",
            "Chunk 2:\n",
            "Relevance Score: 0.6934\n",
            "Text (first 300 chars): 807)              (1,131)                         (42)                   (17,898)\n",
            "Depreciation                —            (111)             (63)              (32)           (336)                  (58)                   (46)                           —                        (646)\n",
            "Accumulated deprec...\n",
            "--------------------------------------------------\n",
            "Chunk 3:\n",
            "Relevance Score: 0.6810\n",
            "Text (first 300 chars): 2024                                     605                    3,298                         17                         2,632                   6,552 \n",
            "# included under other expenses. Refer note 2.18\n",
            "(In ₹ crore)\n",
            "Particulars\n",
            "Land Buildings Vehicles Computers\n",
            "Balance as of April 1, 2022             ...\n",
            "--------------------------------------------------\n"
          ]
        }
      ]
    },
    {
      "cell_type": "code",
      "source": [
        "query_str = \"What is the employee benefit expenses for Q2 2024?\"\n",
        "response = await query_engine.aquery(query_str)\n",
        "\n",
        "print(\"Original Query:\", query_str)\n",
        "cleaned_response = response.response.split('\\n')[0].strip()\n",
        "print(\"Response:\", cleaned_response)\n",
        "\n",
        "print(\"\\nRetrieved Document Chunks:\")\n",
        "for i, node in enumerate(response.source_nodes, 1):\n",
        "    print(f\"Chunk {i}:\")\n",
        "    print(f\"Relevance Score: {node.score:.4f}\")\n",
        "    print(f\"Text (first 300 chars): {node.text[:300]}...\")\n",
        "    print(\"-\" * 50)"
      ],
      "metadata": {
        "colab": {
          "base_uri": "https://localhost:8080/"
        },
        "id": "-2bv-mNV9-dx",
        "outputId": "52fd2f6d-6fbd-4071-9357-47955895fa20"
      },
      "execution_count": 24,
      "outputs": [
        {
          "output_type": "stream",
          "name": "stderr",
          "text": [
            "Setting `pad_token_id` to `eos_token_id`:128001 for open-end generation.\n"
          ]
        },
        {
          "output_type": "stream",
          "name": "stdout",
          "text": [
            "Original Query: What is the employee benefit expenses for Q2 2024?\n",
            "Response: 19,527\n",
            "\n",
            "Retrieved Document Chunks:\n",
            "Chunk 1:\n",
            "Relevance Score: 0.6723\n",
            "Text (first 300 chars): INFOSYS LIMITED AND SUBSIDIARIES\n",
            "(In ₹ crore, except equity share and per equity share data)\n",
            "Note No.\n",
            "2024 2023 2024 2023 \n",
            "Revenue from operations 2.16                             37,923                             37,441                           153,670                           146,767 \n",
            "Other inc...\n",
            "--------------------------------------------------\n",
            "Chunk 2:\n",
            "Relevance Score: 0.6610\n",
            "Text (first 300 chars): net*                 —                 —                 —                —                —                —                  —                —                —                        (7)                            —                     —                       —                     (7)            ...\n",
            "--------------------------------------------------\n",
            "Chunk 3:\n",
            "Relevance Score: 0.6608\n",
            "Text (first 300 chars): Particulars\n",
            "2024 2023 2024 2023 \n",
            "Employee benefit expenses\n",
            "Salaries including bonus                  19,527                  19,526                       79,315                 75,239 \n",
            "Contribution to provident and other funds                       529                       547                      ...\n",
            "--------------------------------------------------\n"
          ]
        }
      ]
    },
    {
      "cell_type": "code",
      "source": [
        "query_str = \"What is the tax expense for Q2 2023?\"\n",
        "response = await query_engine.aquery(query_str)\n",
        "\n",
        "print(\"Original Query:\", query_str)\n",
        "cleaned_response = response.response.split('\\n')[0].strip()\n",
        "print(\"Response:\", cleaned_response)\n",
        "\n",
        "print(\"\\nRetrieved Document Chunks:\")\n",
        "for i, node in enumerate(response.source_nodes, 1):\n",
        "    print(f\"Chunk {i}:\")\n",
        "    print(f\"Relevance Score: {node.score:.4f}\")\n",
        "    print(f\"Text (first 300 chars): {node.text[:300]}...\")\n",
        "    print(\"-\" * 50)"
      ],
      "metadata": {
        "colab": {
          "base_uri": "https://localhost:8080/"
        },
        "id": "Fhv0117Y-XQj",
        "outputId": "39a886e5-3c19-4878-90be-eb50310f5aa2"
      },
      "execution_count": 25,
      "outputs": [
        {
          "output_type": "stream",
          "name": "stderr",
          "text": [
            "Setting `pad_token_id` to `eos_token_id`:128001 for open-end generation.\n"
          ]
        },
        {
          "output_type": "stream",
          "name": "stdout",
          "text": [
            "Original Query: What is the tax expense for Q2 2023?\n",
            "Response: 2,260 (Note: The question is not clear. It seems like it is asking for the tax expense for Q2 2023, but the provided text is for the year 2024 and 2023. Assuming the question is asking for the tax expense for the year 2023, the answer would be 2,260, which is the current tax for the year 2023 mentioned in the text. If the question is asking for the tax expense for Q2 2023, the answer would be 1,173, which is the current tax for Q2 2024 mentioned in the text.)\n",
            "\n",
            "Retrieved Document Chunks:\n",
            "Chunk 1:\n",
            "Relevance Score: 0.7019\n",
            "Text (first 300 chars): INFOSYS LIMITED AND SUBSIDIARIES\n",
            "(In ₹ crore, except equity share and per equity share data)\n",
            "Note No.\n",
            "2024 2023 2024 2023 \n",
            "Revenue from operations 2.16                             37,923                             37,441                           153,670                           146,767 \n",
            "Other inc...\n",
            "--------------------------------------------------\n",
            "Chunk 2:\n",
            "Relevance Score: 0.6650\n",
            "Text (first 300 chars): Accounting policy\n",
            "(In ₹ crore)\n",
            "Particulars\n",
            "2024 2023 2024 2023\n",
            "Current taxes                       1,173                       2,260                     8,390                    9,287 \n",
            "Deferred taxes                       1,092                            72                     1,350                 ...\n",
            "--------------------------------------------------\n",
            "Chunk 3:\n",
            "Relevance Score: 0.6631\n",
            "Text (first 300 chars): 2.8 CASH AND CASH EQUIVALENTS\n",
            "(In ₹ crore)\n",
            "Particulars\n",
            "March 31, 2024 March 31, 2023\n",
            "Balances with banks\n",
            "In current and deposit accounts                                     14,786                           10,026 \n",
            "Cash on hand                                            —                             ...\n",
            "--------------------------------------------------\n"
          ]
        }
      ]
    }
  ],
  "metadata": {
    "colab": {
      "provenance": [],
      "gpuType": "T4",
      "authorship_tag": "ABX9TyNMZ1vHSUIV6jrHfW8BJDs7",
      "include_colab_link": true
    },
    "kernelspec": {
      "display_name": "Python 3",
      "name": "python3"
    },
    "language_info": {
      "name": "python"
    },
    "accelerator": "GPU",
    "widgets": {
      "application/vnd.jupyter.widget-state+json": {
        "676915a2effd4bfcbbe11e8a531c8f2e": {
          "model_module": "@jupyter-widgets/controls",
          "model_name": "HBoxModel",
          "model_module_version": "1.5.0",
          "state": {
            "_dom_classes": [],
            "_model_module": "@jupyter-widgets/controls",
            "_model_module_version": "1.5.0",
            "_model_name": "HBoxModel",
            "_view_count": null,
            "_view_module": "@jupyter-widgets/controls",
            "_view_module_version": "1.5.0",
            "_view_name": "HBoxView",
            "box_style": "",
            "children": [
              "IPY_MODEL_6b142e00310c4a009979db863f03907d",
              "IPY_MODEL_4081384be1724e8389b9d5865a071049",
              "IPY_MODEL_93207fd0979d4d44b904278e652522d8"
            ],
            "layout": "IPY_MODEL_ddc8045e22b9463c99a9ddc9a71d4c6a"
          }
        },
        "6b142e00310c4a009979db863f03907d": {
          "model_module": "@jupyter-widgets/controls",
          "model_name": "HTMLModel",
          "model_module_version": "1.5.0",
          "state": {
            "_dom_classes": [],
            "_model_module": "@jupyter-widgets/controls",
            "_model_module_version": "1.5.0",
            "_model_name": "HTMLModel",
            "_view_count": null,
            "_view_module": "@jupyter-widgets/controls",
            "_view_module_version": "1.5.0",
            "_view_name": "HTMLView",
            "description": "",
            "description_tooltip": null,
            "layout": "IPY_MODEL_3c0ed5021dac4141ab535b45a98a822f",
            "placeholder": "​",
            "style": "IPY_MODEL_fda84c2b3688443da54487117b24d417",
            "value": "Parsing nodes: 100%"
          }
        },
        "4081384be1724e8389b9d5865a071049": {
          "model_module": "@jupyter-widgets/controls",
          "model_name": "FloatProgressModel",
          "model_module_version": "1.5.0",
          "state": {
            "_dom_classes": [],
            "_model_module": "@jupyter-widgets/controls",
            "_model_module_version": "1.5.0",
            "_model_name": "FloatProgressModel",
            "_view_count": null,
            "_view_module": "@jupyter-widgets/controls",
            "_view_module_version": "1.5.0",
            "_view_name": "ProgressView",
            "bar_style": "success",
            "description": "",
            "description_tooltip": null,
            "layout": "IPY_MODEL_7bd471a2278d4141aa334f8c1c6fbd98",
            "max": 40,
            "min": 0,
            "orientation": "horizontal",
            "style": "IPY_MODEL_d71a816ecd224ccebf2d53606991f3c0",
            "value": 40
          }
        },
        "93207fd0979d4d44b904278e652522d8": {
          "model_module": "@jupyter-widgets/controls",
          "model_name": "HTMLModel",
          "model_module_version": "1.5.0",
          "state": {
            "_dom_classes": [],
            "_model_module": "@jupyter-widgets/controls",
            "_model_module_version": "1.5.0",
            "_model_name": "HTMLModel",
            "_view_count": null,
            "_view_module": "@jupyter-widgets/controls",
            "_view_module_version": "1.5.0",
            "_view_name": "HTMLView",
            "description": "",
            "description_tooltip": null,
            "layout": "IPY_MODEL_3322a1fa7b5e49a999c53d7af7e7aad2",
            "placeholder": "​",
            "style": "IPY_MODEL_00d4eba0992a421e967a67d457562606",
            "value": " 40/40 [00:00&lt;00:00, 73.73it/s]"
          }
        },
        "ddc8045e22b9463c99a9ddc9a71d4c6a": {
          "model_module": "@jupyter-widgets/base",
          "model_name": "LayoutModel",
          "model_module_version": "1.2.0",
          "state": {
            "_model_module": "@jupyter-widgets/base",
            "_model_module_version": "1.2.0",
            "_model_name": "LayoutModel",
            "_view_count": null,
            "_view_module": "@jupyter-widgets/base",
            "_view_module_version": "1.2.0",
            "_view_name": "LayoutView",
            "align_content": null,
            "align_items": null,
            "align_self": null,
            "border": null,
            "bottom": null,
            "display": null,
            "flex": null,
            "flex_flow": null,
            "grid_area": null,
            "grid_auto_columns": null,
            "grid_auto_flow": null,
            "grid_auto_rows": null,
            "grid_column": null,
            "grid_gap": null,
            "grid_row": null,
            "grid_template_areas": null,
            "grid_template_columns": null,
            "grid_template_rows": null,
            "height": null,
            "justify_content": null,
            "justify_items": null,
            "left": null,
            "margin": null,
            "max_height": null,
            "max_width": null,
            "min_height": null,
            "min_width": null,
            "object_fit": null,
            "object_position": null,
            "order": null,
            "overflow": null,
            "overflow_x": null,
            "overflow_y": null,
            "padding": null,
            "right": null,
            "top": null,
            "visibility": null,
            "width": null
          }
        },
        "3c0ed5021dac4141ab535b45a98a822f": {
          "model_module": "@jupyter-widgets/base",
          "model_name": "LayoutModel",
          "model_module_version": "1.2.0",
          "state": {
            "_model_module": "@jupyter-widgets/base",
            "_model_module_version": "1.2.0",
            "_model_name": "LayoutModel",
            "_view_count": null,
            "_view_module": "@jupyter-widgets/base",
            "_view_module_version": "1.2.0",
            "_view_name": "LayoutView",
            "align_content": null,
            "align_items": null,
            "align_self": null,
            "border": null,
            "bottom": null,
            "display": null,
            "flex": null,
            "flex_flow": null,
            "grid_area": null,
            "grid_auto_columns": null,
            "grid_auto_flow": null,
            "grid_auto_rows": null,
            "grid_column": null,
            "grid_gap": null,
            "grid_row": null,
            "grid_template_areas": null,
            "grid_template_columns": null,
            "grid_template_rows": null,
            "height": null,
            "justify_content": null,
            "justify_items": null,
            "left": null,
            "margin": null,
            "max_height": null,
            "max_width": null,
            "min_height": null,
            "min_width": null,
            "object_fit": null,
            "object_position": null,
            "order": null,
            "overflow": null,
            "overflow_x": null,
            "overflow_y": null,
            "padding": null,
            "right": null,
            "top": null,
            "visibility": null,
            "width": null
          }
        },
        "fda84c2b3688443da54487117b24d417": {
          "model_module": "@jupyter-widgets/controls",
          "model_name": "DescriptionStyleModel",
          "model_module_version": "1.5.0",
          "state": {
            "_model_module": "@jupyter-widgets/controls",
            "_model_module_version": "1.5.0",
            "_model_name": "DescriptionStyleModel",
            "_view_count": null,
            "_view_module": "@jupyter-widgets/base",
            "_view_module_version": "1.2.0",
            "_view_name": "StyleView",
            "description_width": ""
          }
        },
        "7bd471a2278d4141aa334f8c1c6fbd98": {
          "model_module": "@jupyter-widgets/base",
          "model_name": "LayoutModel",
          "model_module_version": "1.2.0",
          "state": {
            "_model_module": "@jupyter-widgets/base",
            "_model_module_version": "1.2.0",
            "_model_name": "LayoutModel",
            "_view_count": null,
            "_view_module": "@jupyter-widgets/base",
            "_view_module_version": "1.2.0",
            "_view_name": "LayoutView",
            "align_content": null,
            "align_items": null,
            "align_self": null,
            "border": null,
            "bottom": null,
            "display": null,
            "flex": null,
            "flex_flow": null,
            "grid_area": null,
            "grid_auto_columns": null,
            "grid_auto_flow": null,
            "grid_auto_rows": null,
            "grid_column": null,
            "grid_gap": null,
            "grid_row": null,
            "grid_template_areas": null,
            "grid_template_columns": null,
            "grid_template_rows": null,
            "height": null,
            "justify_content": null,
            "justify_items": null,
            "left": null,
            "margin": null,
            "max_height": null,
            "max_width": null,
            "min_height": null,
            "min_width": null,
            "object_fit": null,
            "object_position": null,
            "order": null,
            "overflow": null,
            "overflow_x": null,
            "overflow_y": null,
            "padding": null,
            "right": null,
            "top": null,
            "visibility": null,
            "width": null
          }
        },
        "d71a816ecd224ccebf2d53606991f3c0": {
          "model_module": "@jupyter-widgets/controls",
          "model_name": "ProgressStyleModel",
          "model_module_version": "1.5.0",
          "state": {
            "_model_module": "@jupyter-widgets/controls",
            "_model_module_version": "1.5.0",
            "_model_name": "ProgressStyleModel",
            "_view_count": null,
            "_view_module": "@jupyter-widgets/base",
            "_view_module_version": "1.2.0",
            "_view_name": "StyleView",
            "bar_color": null,
            "description_width": ""
          }
        },
        "3322a1fa7b5e49a999c53d7af7e7aad2": {
          "model_module": "@jupyter-widgets/base",
          "model_name": "LayoutModel",
          "model_module_version": "1.2.0",
          "state": {
            "_model_module": "@jupyter-widgets/base",
            "_model_module_version": "1.2.0",
            "_model_name": "LayoutModel",
            "_view_count": null,
            "_view_module": "@jupyter-widgets/base",
            "_view_module_version": "1.2.0",
            "_view_name": "LayoutView",
            "align_content": null,
            "align_items": null,
            "align_self": null,
            "border": null,
            "bottom": null,
            "display": null,
            "flex": null,
            "flex_flow": null,
            "grid_area": null,
            "grid_auto_columns": null,
            "grid_auto_flow": null,
            "grid_auto_rows": null,
            "grid_column": null,
            "grid_gap": null,
            "grid_row": null,
            "grid_template_areas": null,
            "grid_template_columns": null,
            "grid_template_rows": null,
            "height": null,
            "justify_content": null,
            "justify_items": null,
            "left": null,
            "margin": null,
            "max_height": null,
            "max_width": null,
            "min_height": null,
            "min_width": null,
            "object_fit": null,
            "object_position": null,
            "order": null,
            "overflow": null,
            "overflow_x": null,
            "overflow_y": null,
            "padding": null,
            "right": null,
            "top": null,
            "visibility": null,
            "width": null
          }
        },
        "00d4eba0992a421e967a67d457562606": {
          "model_module": "@jupyter-widgets/controls",
          "model_name": "DescriptionStyleModel",
          "model_module_version": "1.5.0",
          "state": {
            "_model_module": "@jupyter-widgets/controls",
            "_model_module_version": "1.5.0",
            "_model_name": "DescriptionStyleModel",
            "_view_count": null,
            "_view_module": "@jupyter-widgets/base",
            "_view_module_version": "1.2.0",
            "_view_name": "StyleView",
            "description_width": ""
          }
        },
        "123218df1a6443e3aea6378ec6e6b33f": {
          "model_module": "@jupyter-widgets/controls",
          "model_name": "HBoxModel",
          "model_module_version": "1.5.0",
          "state": {
            "_dom_classes": [],
            "_model_module": "@jupyter-widgets/controls",
            "_model_module_version": "1.5.0",
            "_model_name": "HBoxModel",
            "_view_count": null,
            "_view_module": "@jupyter-widgets/controls",
            "_view_module_version": "1.5.0",
            "_view_name": "HBoxView",
            "box_style": "",
            "children": [
              "IPY_MODEL_e7da67d763a547ef9e39041350bb5028",
              "IPY_MODEL_af63f90ef4d446d988203b5f8d147202",
              "IPY_MODEL_c580fa3ecd334b319a3783b7e0ba3a8f"
            ],
            "layout": "IPY_MODEL_412a2b95cc72459fa8ca263e4f3c009c"
          }
        },
        "e7da67d763a547ef9e39041350bb5028": {
          "model_module": "@jupyter-widgets/controls",
          "model_name": "HTMLModel",
          "model_module_version": "1.5.0",
          "state": {
            "_dom_classes": [],
            "_model_module": "@jupyter-widgets/controls",
            "_model_module_version": "1.5.0",
            "_model_name": "HTMLModel",
            "_view_count": null,
            "_view_module": "@jupyter-widgets/controls",
            "_view_module_version": "1.5.0",
            "_view_name": "HTMLView",
            "description": "",
            "description_tooltip": null,
            "layout": "IPY_MODEL_a1339ecf510a4bf09efcfe2c66932654",
            "placeholder": "​",
            "style": "IPY_MODEL_f58ef6dbeb1340fab8f4eb3600a52821",
            "value": "Generating embeddings: 100%"
          }
        },
        "af63f90ef4d446d988203b5f8d147202": {
          "model_module": "@jupyter-widgets/controls",
          "model_name": "FloatProgressModel",
          "model_module_version": "1.5.0",
          "state": {
            "_dom_classes": [],
            "_model_module": "@jupyter-widgets/controls",
            "_model_module_version": "1.5.0",
            "_model_name": "FloatProgressModel",
            "_view_count": null,
            "_view_module": "@jupyter-widgets/controls",
            "_view_module_version": "1.5.0",
            "_view_name": "ProgressView",
            "bar_style": "success",
            "description": "",
            "description_tooltip": null,
            "layout": "IPY_MODEL_0fe2e01d21994871841d39bf3ac2f5e5",
            "max": 109,
            "min": 0,
            "orientation": "horizontal",
            "style": "IPY_MODEL_6e6abc6184364212b52954e33b4f36a0",
            "value": 109
          }
        },
        "c580fa3ecd334b319a3783b7e0ba3a8f": {
          "model_module": "@jupyter-widgets/controls",
          "model_name": "HTMLModel",
          "model_module_version": "1.5.0",
          "state": {
            "_dom_classes": [],
            "_model_module": "@jupyter-widgets/controls",
            "_model_module_version": "1.5.0",
            "_model_name": "HTMLModel",
            "_view_count": null,
            "_view_module": "@jupyter-widgets/controls",
            "_view_module_version": "1.5.0",
            "_view_name": "HTMLView",
            "description": "",
            "description_tooltip": null,
            "layout": "IPY_MODEL_f472f7c7d67a4732969c200b2592032b",
            "placeholder": "​",
            "style": "IPY_MODEL_a60e79ee7317498d84a0833f21ff74da",
            "value": " 109/109 [00:11&lt;00:00, 11.74it/s]"
          }
        },
        "412a2b95cc72459fa8ca263e4f3c009c": {
          "model_module": "@jupyter-widgets/base",
          "model_name": "LayoutModel",
          "model_module_version": "1.2.0",
          "state": {
            "_model_module": "@jupyter-widgets/base",
            "_model_module_version": "1.2.0",
            "_model_name": "LayoutModel",
            "_view_count": null,
            "_view_module": "@jupyter-widgets/base",
            "_view_module_version": "1.2.0",
            "_view_name": "LayoutView",
            "align_content": null,
            "align_items": null,
            "align_self": null,
            "border": null,
            "bottom": null,
            "display": null,
            "flex": null,
            "flex_flow": null,
            "grid_area": null,
            "grid_auto_columns": null,
            "grid_auto_flow": null,
            "grid_auto_rows": null,
            "grid_column": null,
            "grid_gap": null,
            "grid_row": null,
            "grid_template_areas": null,
            "grid_template_columns": null,
            "grid_template_rows": null,
            "height": null,
            "justify_content": null,
            "justify_items": null,
            "left": null,
            "margin": null,
            "max_height": null,
            "max_width": null,
            "min_height": null,
            "min_width": null,
            "object_fit": null,
            "object_position": null,
            "order": null,
            "overflow": null,
            "overflow_x": null,
            "overflow_y": null,
            "padding": null,
            "right": null,
            "top": null,
            "visibility": null,
            "width": null
          }
        },
        "a1339ecf510a4bf09efcfe2c66932654": {
          "model_module": "@jupyter-widgets/base",
          "model_name": "LayoutModel",
          "model_module_version": "1.2.0",
          "state": {
            "_model_module": "@jupyter-widgets/base",
            "_model_module_version": "1.2.0",
            "_model_name": "LayoutModel",
            "_view_count": null,
            "_view_module": "@jupyter-widgets/base",
            "_view_module_version": "1.2.0",
            "_view_name": "LayoutView",
            "align_content": null,
            "align_items": null,
            "align_self": null,
            "border": null,
            "bottom": null,
            "display": null,
            "flex": null,
            "flex_flow": null,
            "grid_area": null,
            "grid_auto_columns": null,
            "grid_auto_flow": null,
            "grid_auto_rows": null,
            "grid_column": null,
            "grid_gap": null,
            "grid_row": null,
            "grid_template_areas": null,
            "grid_template_columns": null,
            "grid_template_rows": null,
            "height": null,
            "justify_content": null,
            "justify_items": null,
            "left": null,
            "margin": null,
            "max_height": null,
            "max_width": null,
            "min_height": null,
            "min_width": null,
            "object_fit": null,
            "object_position": null,
            "order": null,
            "overflow": null,
            "overflow_x": null,
            "overflow_y": null,
            "padding": null,
            "right": null,
            "top": null,
            "visibility": null,
            "width": null
          }
        },
        "f58ef6dbeb1340fab8f4eb3600a52821": {
          "model_module": "@jupyter-widgets/controls",
          "model_name": "DescriptionStyleModel",
          "model_module_version": "1.5.0",
          "state": {
            "_model_module": "@jupyter-widgets/controls",
            "_model_module_version": "1.5.0",
            "_model_name": "DescriptionStyleModel",
            "_view_count": null,
            "_view_module": "@jupyter-widgets/base",
            "_view_module_version": "1.2.0",
            "_view_name": "StyleView",
            "description_width": ""
          }
        },
        "0fe2e01d21994871841d39bf3ac2f5e5": {
          "model_module": "@jupyter-widgets/base",
          "model_name": "LayoutModel",
          "model_module_version": "1.2.0",
          "state": {
            "_model_module": "@jupyter-widgets/base",
            "_model_module_version": "1.2.0",
            "_model_name": "LayoutModel",
            "_view_count": null,
            "_view_module": "@jupyter-widgets/base",
            "_view_module_version": "1.2.0",
            "_view_name": "LayoutView",
            "align_content": null,
            "align_items": null,
            "align_self": null,
            "border": null,
            "bottom": null,
            "display": null,
            "flex": null,
            "flex_flow": null,
            "grid_area": null,
            "grid_auto_columns": null,
            "grid_auto_flow": null,
            "grid_auto_rows": null,
            "grid_column": null,
            "grid_gap": null,
            "grid_row": null,
            "grid_template_areas": null,
            "grid_template_columns": null,
            "grid_template_rows": null,
            "height": null,
            "justify_content": null,
            "justify_items": null,
            "left": null,
            "margin": null,
            "max_height": null,
            "max_width": null,
            "min_height": null,
            "min_width": null,
            "object_fit": null,
            "object_position": null,
            "order": null,
            "overflow": null,
            "overflow_x": null,
            "overflow_y": null,
            "padding": null,
            "right": null,
            "top": null,
            "visibility": null,
            "width": null
          }
        },
        "6e6abc6184364212b52954e33b4f36a0": {
          "model_module": "@jupyter-widgets/controls",
          "model_name": "ProgressStyleModel",
          "model_module_version": "1.5.0",
          "state": {
            "_model_module": "@jupyter-widgets/controls",
            "_model_module_version": "1.5.0",
            "_model_name": "ProgressStyleModel",
            "_view_count": null,
            "_view_module": "@jupyter-widgets/base",
            "_view_module_version": "1.2.0",
            "_view_name": "StyleView",
            "bar_color": null,
            "description_width": ""
          }
        },
        "f472f7c7d67a4732969c200b2592032b": {
          "model_module": "@jupyter-widgets/base",
          "model_name": "LayoutModel",
          "model_module_version": "1.2.0",
          "state": {
            "_model_module": "@jupyter-widgets/base",
            "_model_module_version": "1.2.0",
            "_model_name": "LayoutModel",
            "_view_count": null,
            "_view_module": "@jupyter-widgets/base",
            "_view_module_version": "1.2.0",
            "_view_name": "LayoutView",
            "align_content": null,
            "align_items": null,
            "align_self": null,
            "border": null,
            "bottom": null,
            "display": null,
            "flex": null,
            "flex_flow": null,
            "grid_area": null,
            "grid_auto_columns": null,
            "grid_auto_flow": null,
            "grid_auto_rows": null,
            "grid_column": null,
            "grid_gap": null,
            "grid_row": null,
            "grid_template_areas": null,
            "grid_template_columns": null,
            "grid_template_rows": null,
            "height": null,
            "justify_content": null,
            "justify_items": null,
            "left": null,
            "margin": null,
            "max_height": null,
            "max_width": null,
            "min_height": null,
            "min_width": null,
            "object_fit": null,
            "object_position": null,
            "order": null,
            "overflow": null,
            "overflow_x": null,
            "overflow_y": null,
            "padding": null,
            "right": null,
            "top": null,
            "visibility": null,
            "width": null
          }
        },
        "a60e79ee7317498d84a0833f21ff74da": {
          "model_module": "@jupyter-widgets/controls",
          "model_name": "DescriptionStyleModel",
          "model_module_version": "1.5.0",
          "state": {
            "_model_module": "@jupyter-widgets/controls",
            "_model_module_version": "1.5.0",
            "_model_name": "DescriptionStyleModel",
            "_view_count": null,
            "_view_module": "@jupyter-widgets/base",
            "_view_module_version": "1.2.0",
            "_view_name": "StyleView",
            "description_width": ""
          }
        }
      }
    }
  },
  "nbformat": 4,
  "nbformat_minor": 0
}